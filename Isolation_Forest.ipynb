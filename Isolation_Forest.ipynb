{
 "cells": [
  {
   "cell_type": "code",
   "execution_count": 35,
   "id": "d8df07e5-2fef-4175-90a7-1eca00e492f8",
   "metadata": {},
   "outputs": [
    {
     "data": {
      "text/plain": [
       "['isoforest_model.pkl']"
      ]
     },
     "execution_count": 35,
     "metadata": {},
     "output_type": "execute_result"
    }
   ],
   "source": [
    "from sklearn.ensemble import IsolationForest\n",
    "import pandas as pd\n",
    "import joblib\n",
    "\n",
    "parquet_path = \"/home/jovyan/notebooks/spark/sensor_data/merged_sensor_parquet_hourly/merged.parquet\"\n",
    "\n",
    "df = pd.read_parquet(parquet_path)\n",
    "\n",
    "df_filtered = df[(df['value'] >= 2) & (df['value'] <= 200)]\n",
    "\n",
    "model = IsolationForest(contamination=0.02, random_state=42)\n",
    "model.fit(df_filtered[['value']])\n",
    "\n",
    "#model = IsolationForest(contamination=0.01, random_state=42)\n",
    "#model.fit(df[['value']])\n",
    "\n",
    "joblib.dump(model, \"isoforest_model.pkl\")"
   ]
  },
  {
   "cell_type": "code",
   "execution_count": 20,
   "id": "3e7f1a0c-b2ed-4dee-8f7f-9577328a2bc1",
   "metadata": {},
   "outputs": [
    {
     "data": {
      "text/html": [
       "<div>\n",
       "<style scoped>\n",
       "    .dataframe tbody tr th:only-of-type {\n",
       "        vertical-align: middle;\n",
       "    }\n",
       "\n",
       "    .dataframe tbody tr th {\n",
       "        vertical-align: top;\n",
       "    }\n",
       "\n",
       "    .dataframe thead th {\n",
       "        text-align: right;\n",
       "    }\n",
       "</style>\n",
       "<table border=\"1\" class=\"dataframe\">\n",
       "  <thead>\n",
       "    <tr style=\"text-align: right;\">\n",
       "      <th></th>\n",
       "      <th>station_id</th>\n",
       "      <th>reading_date</th>\n",
       "      <th>datetime_from_sensor</th>\n",
       "      <th>value</th>\n",
       "      <th>unit</th>\n",
       "      <th>air_quality_class</th>\n",
       "    </tr>\n",
       "  </thead>\n",
       "  <tbody>\n",
       "    <tr>\n",
       "      <th>52</th>\n",
       "      <td>10955</td>\n",
       "      <td>2025-06-03 19:54:52</td>\n",
       "      <td>2025-06-01 10:00:00</td>\n",
       "      <td>5.0</td>\n",
       "      <td>µg/m³</td>\n",
       "      <td>dobry</td>\n",
       "    </tr>\n",
       "    <tr>\n",
       "      <th>57</th>\n",
       "      <td>10955</td>\n",
       "      <td>2025-06-03 19:54:52</td>\n",
       "      <td>2025-06-01 11:00:00</td>\n",
       "      <td>3.4</td>\n",
       "      <td>µg/m³</td>\n",
       "      <td>dobry</td>\n",
       "    </tr>\n",
       "    <tr>\n",
       "      <th>62</th>\n",
       "      <td>10955</td>\n",
       "      <td>2025-06-03 19:54:52</td>\n",
       "      <td>2025-06-01 12:00:00</td>\n",
       "      <td>2.5</td>\n",
       "      <td>µg/m³</td>\n",
       "      <td>dobry</td>\n",
       "    </tr>\n",
       "    <tr>\n",
       "      <th>66</th>\n",
       "      <td>552</td>\n",
       "      <td>2025-06-03 19:54:52</td>\n",
       "      <td>2025-06-01 13:00:00</td>\n",
       "      <td>3.6</td>\n",
       "      <td>µg/m³</td>\n",
       "      <td>dobry</td>\n",
       "    </tr>\n",
       "    <tr>\n",
       "      <th>67</th>\n",
       "      <td>10955</td>\n",
       "      <td>2025-06-03 19:54:52</td>\n",
       "      <td>2025-06-01 13:00:00</td>\n",
       "      <td>3.6</td>\n",
       "      <td>µg/m³</td>\n",
       "      <td>dobry</td>\n",
       "    </tr>\n",
       "  </tbody>\n",
       "</table>\n",
       "</div>"
      ],
      "text/plain": [
       "    station_id         reading_date datetime_from_sensor  value   unit  \\\n",
       "52       10955  2025-06-03 19:54:52  2025-06-01 10:00:00    5.0  µg/m³   \n",
       "57       10955  2025-06-03 19:54:52  2025-06-01 11:00:00    3.4  µg/m³   \n",
       "62       10955  2025-06-03 19:54:52  2025-06-01 12:00:00    2.5  µg/m³   \n",
       "66         552  2025-06-03 19:54:52  2025-06-01 13:00:00    3.6  µg/m³   \n",
       "67       10955  2025-06-03 19:54:52  2025-06-01 13:00:00    3.6  µg/m³   \n",
       "\n",
       "   air_quality_class  \n",
       "52             dobry  \n",
       "57             dobry  \n",
       "62             dobry  \n",
       "66             dobry  \n",
       "67             dobry  "
      ]
     },
     "execution_count": 20,
     "metadata": {},
     "output_type": "execute_result"
    }
   ],
   "source": [
    "df_filtered = df[(df['value'] <= 5)]\n",
    "df_filtered.head()"
   ]
  },
  {
   "cell_type": "code",
   "execution_count": 36,
   "id": "067f8c6f-5c10-40ac-b796-f6022886f3eb",
   "metadata": {},
   "outputs": [
    {
     "name": "stdout",
     "output_type": "stream",
     "text": [
      "   value  anomaly\n",
      "0   13.2        1\n",
      "1   16.5        1\n",
      "2   21.0        1\n",
      "3  211.9       -1\n",
      "4  221.4       -1\n",
      "5   10.3        1\n",
      "6  300.0       -1\n",
      "7   -0.5       -1\n",
      "8    1.0       -1\n",
      "9    2.5       -1\n"
     ]
    }
   ],
   "source": [
    "import joblib\n",
    "import pandas as pd\n",
    "\n",
    "model = joblib.load(\"isoforest_model.pkl\")\n",
    "\n",
    "df_test = pd.DataFrame({\"value\": [13.2, 16.5, 21.0, 211.9, 221.4, 10.3, 300.0, -0.5, 1.0, 2.5]})\n",
    "df_test[\"anomaly\"] = model.predict(df_test)\n",
    "\n",
    "print(df_test)"
   ]
  },
  {
   "cell_type": "code",
   "execution_count": null,
   "id": "c526e842-3308-4edd-bf12-6ebf74122964",
   "metadata": {},
   "outputs": [],
   "source": []
  }
 ],
 "metadata": {
  "kernelspec": {
   "display_name": "Python 3 (ipykernel)",
   "language": "python",
   "name": "python3"
  },
  "language_info": {
   "codemirror_mode": {
    "name": "ipython",
    "version": 3
   },
   "file_extension": ".py",
   "mimetype": "text/x-python",
   "name": "python",
   "nbconvert_exporter": "python",
   "pygments_lexer": "ipython3",
   "version": "3.11.6"
  }
 },
 "nbformat": 4,
 "nbformat_minor": 5
}
