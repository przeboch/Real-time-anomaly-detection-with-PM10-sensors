{
 "cells": [
  {
   "cell_type": "code",
   "execution_count": 3,
   "id": "0f6a17dd-975b-44c8-9d00-4049f821a68b",
   "metadata": {},
   "outputs": [
    {
     "name": "stdout",
     "output_type": "stream",
     "text": [
      "Znaleziono 6 stacji:\n",
      "\n",
      "📍 Stacja: Warszawa, al. Niepodległości (ID: 530)\n",
      "  - Czujnik: benzen (kod: C6H6)\n",
      "  - Czujnik: tlenek węgla (kod: CO)\n",
      "  - Czujnik: dwutlenek azotu (kod: NO2)\n",
      "  - Czujnik: pył zawieszony PM10 (kod: PM10)\n",
      "  - Czujnik: pył zawieszony PM2.5 (kod: PM2.5)\n",
      "\n",
      "📍 Stacja: Warszawa, ul. Wokalna (ID: 550)\n",
      "  - Czujnik: dwutlenek azotu (kod: NO2)\n",
      "  - Czujnik: ozon (kod: O3)\n",
      "  - Czujnik: pył zawieszony PM10 (kod: PM10)\n",
      "  - Czujnik: pył zawieszony PM2.5 (kod: PM2.5)\n",
      "\n",
      "📍 Stacja: Warszawa, ul. Kondratowicza (ID: 552)\n",
      "  - Czujnik: dwutlenek azotu (kod: NO2)\n",
      "  - Czujnik: ozon (kod: O3)\n",
      "  - Czujnik: pył zawieszony PM10 (kod: PM10)\n",
      "  - Czujnik: pył zawieszony PM2.5 (kod: PM2.5)\n",
      "\n",
      "📍 Stacja: Warszawa, ul. Chrościckiego (ID: 10955)\n",
      "  - Czujnik: pył zawieszony PM10 (kod: PM10)\n",
      "  - Czujnik: pył zawieszony PM2.5 (kod: PM2.5)\n",
      "  - Czujnik: dwutlenek azotu (kod: NO2)\n",
      "  - Czujnik: ozon (kod: O3)\n",
      "  - Czujnik: dwutlenek siarki (kod: SO2)\n",
      "\n",
      "📍 Stacja: Warszawa, ul. Bajkowa (ID: 10956)\n",
      "  - Czujnik: pył zawieszony PM2.5 (kod: PM2.5)\n",
      "  - Czujnik: pył zawieszony PM10 (kod: PM10)\n",
      "\n",
      "📍 Stacja: Warszawa, IMGW (ID: 16533)\n",
      "  - Czujnik: ozon (kod: O3)\n",
      "\n"
     ]
    }
   ],
   "source": [
    "import requests\n",
    "\n",
    "stations_url = \"https://api.gios.gov.pl/pjp-api/rest/station/findAll\"\n",
    "response = requests.get(stations_url)\n",
    "response.raise_for_status()\n",
    "stations = response.json()\n",
    "\n",
    "stations = [s for s in stations if s.get('city', {}).get('name') == 'Warszawa']\n",
    "\n",
    "print(f\"Znaleziono {len(krakow_stations)} stacji:\\n\")\n",
    "\n",
    "for station in stations:\n",
    "    station_id = station['id']\n",
    "    station_name = station['stationName']\n",
    "\n",
    "    sensors_url = f\"https://api.gios.gov.pl/pjp-api/rest/station/sensors/{station_id}\"\n",
    "    sensors_response = requests.get(sensors_url)\n",
    "    sensors_response.raise_for_status()\n",
    "    sensors = sensors_response.json()\n",
    "\n",
    "    print(f\"📍 Stacja: {station_name} (ID: {station_id})\")\n",
    "    for sensor in sensors:\n",
    "        print(f\"  - Czujnik: {sensor['param']['paramName']} (kod: {sensor['param']['paramCode']})\")\n",
    "    print()"
   ]
  },
  {
   "cell_type": "code",
   "execution_count": 15,
   "id": "3c8fae1b-f6c3-4f0e-9e61-48140abf1095",
   "metadata": {},
   "outputs": [
    {
     "name": "stdout",
     "output_type": "stream",
     "text": [
      "🔎 Znaleziono 6 stacji w Warszawie.\n",
      "\n",
      "📋 Lista ID stacji z czujnikiem PM10 w Warszawie:\n",
      "[550, 552, 10955, 530, 10956]\n"
     ]
    }
   ],
   "source": [
    "import requests\n",
    "\n",
    "stations_url = \"https://api.gios.gov.pl/pjp-api/rest/station/findAll\"\n",
    "stations_response = requests.get(stations_url)\n",
    "stations_response.raise_for_status()\n",
    "stations = stations_response.json()\n",
    "\n",
    "warszawa_stations = [s for s in stations if s.get('city', {}).get('name') == 'Warszawa']\n",
    "\n",
    "print(f\"🔎 Znaleziono {len(warszawa_stations)} stacji w Warszawie.\\n\")\n",
    "\n",
    "stations_with_pm10 = []\n",
    "\n",
    "for station in warszawa_stations:\n",
    "    station_id = station['id']\n",
    "    sensors_url = f\"https://api.gios.gov.pl/pjp-api/rest/station/sensors/{station_id}\"\n",
    "    sensors_response = requests.get(sensors_url)\n",
    "    sensors_response.raise_for_status()\n",
    "    sensors = sensors_response.json()\n",
    "    \n",
    "    if any(s['param']['paramCode'] == 'PM10' for s in sensors):\n",
    "        stations_with_pm10.append(station_id)\n",
    "\n",
    "print(\"📋 Lista ID stacji z czujnikiem PM10 w Warszawie:\")\n",
    "print(stations_with_pm10)"
   ]
  }
 ],
 "metadata": {
  "kernelspec": {
   "display_name": "Python 3 (ipykernel)",
   "language": "python",
   "name": "python3"
  },
  "language_info": {
   "codemirror_mode": {
    "name": "ipython",
    "version": 3
   },
   "file_extension": ".py",
   "mimetype": "text/x-python",
   "name": "python",
   "nbconvert_exporter": "python",
   "pygments_lexer": "ipython3",
   "version": "3.11.6"
  }
 },
 "nbformat": 4,
 "nbformat_minor": 5
}
